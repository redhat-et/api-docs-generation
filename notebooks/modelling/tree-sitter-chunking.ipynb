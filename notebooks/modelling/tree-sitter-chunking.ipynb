{
 "cells": [
  {
   "cell_type": "code",
   "execution_count": 1,
   "id": "57085a6d-0a8f-40c7-853b-64abe47db655",
   "metadata": {},
   "outputs": [
    {
     "name": "stdout",
     "output_type": "stream",
     "text": [
      "Requirement already satisfied: tree_sitter in /opt/app-root/lib/python3.9/site-packages (0.20.4)\n",
      "\u001b[33mWARNING: You are using pip version 22.0.4; however, version 23.3.1 is available.\n",
      "You should consider upgrading via the '/opt/app-root/bin/python3.9 -m pip install --upgrade pip' command.\u001b[0m\u001b[33m\n",
      "\u001b[0m"
     ]
    }
   ],
   "source": [
    "!pip install tree_sitter"
   ]
  },
  {
   "cell_type": "code",
   "execution_count": 2,
   "id": "45d554a7-eaca-4120-89b4-7e8c76083932",
   "metadata": {},
   "outputs": [
    {
     "name": "stdout",
     "output_type": "stream",
     "text": [
      "Cloning into 'tree-sitter-python'...\n",
      "remote: Enumerating objects: 3041, done.\u001b[K\n",
      "remote: Counting objects: 100% (1167/1167), done.\u001b[K\n",
      "remote: Compressing objects: 100% (122/122), done.\u001b[K\n",
      "remote: Total 3041 (delta 1069), reused 1087 (delta 1043), pack-reused 1874\u001b[K\n",
      "Receiving objects: 100% (3041/3041), 21.39 MiB | 41.88 MiB/s, done.\n",
      "Resolving deltas: 100% (1900/1900), done.\n"
     ]
    }
   ],
   "source": [
    "!git clone https://github.com/tree-sitter/tree-sitter-python"
   ]
  },
  {
   "cell_type": "code",
   "execution_count": 3,
   "id": "d03bc808-5731-4467-821b-afde8b7a395e",
   "metadata": {
    "tags": []
   },
   "outputs": [],
   "source": [
    "from collections import defaultdict\n",
    "from tree_sitter import Language, Parser\n",
    "from pprint import pprint\n",
    "import json\n",
    "import ast\n",
    "from typing import List, Dict, Optional\n",
    "import re"
   ]
  },
  {
   "cell_type": "code",
   "execution_count": 4,
   "id": "99646de4-32aa-45d0-9f11-ce7b12ffc4fc",
   "metadata": {},
   "outputs": [
    {
     "data": {
      "text/plain": [
       "True"
      ]
     },
     "execution_count": 4,
     "metadata": {},
     "output_type": "execute_result"
    }
   ],
   "source": [
    "Language.build_library(\n",
    "    # Store the library in the `build` directory\n",
    "    \"build/my-languages.so\",\n",
    "    # Include one or more languages\n",
    "    [\"tree-sitter-python\"],\n",
    ")"
   ]
  },
  {
   "cell_type": "code",
   "execution_count": 5,
   "id": "2b56f20a-7b2f-4607-a092-f4ba5cf3b3e0",
   "metadata": {},
   "outputs": [],
   "source": [
    "PY_LANGUAGE = Language(\"build/my-languages.so\", \"python\")"
   ]
  },
  {
   "cell_type": "code",
   "execution_count": 6,
   "id": "28b00725-4a8b-4135-9f5c-d663500eba10",
   "metadata": {},
   "outputs": [],
   "source": [
    "parser = Parser()\n",
    "parser.set_language(PY_LANGUAGE)"
   ]
  },
  {
   "cell_type": "code",
   "execution_count": 7,
   "id": "c238f909-5a81-4b15-8544-5acf233b3973",
   "metadata": {},
   "outputs": [],
   "source": [
    "# load nested data\n",
    "dataset_path = \"../../data/raw/nested_data.json\"\n",
    "with open(dataset_path, 'r') as f:\n",
    "\t\tdata = json.load(f)"
   ]
  },
  {
   "cell_type": "code",
   "execution_count": 8,
   "id": "972d5880-ce26-400f-9ccb-81e504b871e1",
   "metadata": {
    "tags": []
   },
   "outputs": [
    {
     "data": {
      "text/plain": [
       "dict_keys(['errors', 'oidc', 'sign', 'transparency', 'verify_models', 'verify_policy', 'verify_verifier'])"
      ]
     },
     "execution_count": 8,
     "metadata": {},
     "output_type": "execute_result"
    }
   ],
   "source": [
    "data.keys()"
   ]
  },
  {
   "cell_type": "code",
   "execution_count": 9,
   "id": "ad14bdc1-8c6b-46b4-98cd-1c497dae242b",
   "metadata": {
    "tags": []
   },
   "outputs": [
    {
     "data": {
      "text/plain": [
       "dict_keys(['markdown', 'code'])"
      ]
     },
     "execution_count": 9,
     "metadata": {},
     "output_type": "execute_result"
    }
   ],
   "source": [
    "data[\"errors\"].keys()"
   ]
  },
  {
   "cell_type": "code",
   "execution_count": 10,
   "id": "7d7a8a5f-9620-4057-b244-1afd2bd8c082",
   "metadata": {},
   "outputs": [],
   "source": [
    "files = {\n",
    "    \"errors\": \"errors.py\",\n",
    "    \"oidc\": \"oidc.py\",\n",
    "    \"sign\": \"sign.py\",\n",
    "    \"transparency\": \"transparency.py\",\n",
    "    \"verify_models\": \"verify/models.py\",\n",
    "    \"verify_policy\": \"verify/policy.py\",\n",
    "    \"verify_verifier\": \"verify/verifier.py\"\n",
    "}"
   ]
  },
  {
   "cell_type": "code",
   "execution_count": 11,
   "id": "96656b98-57e8-4f96-96ea-ae27acc7a698",
   "metadata": {
    "tags": []
   },
   "outputs": [],
   "source": [
    "def extract_functions_classes_imports(node):\n",
    "    if node.type == 'import_statement':\n",
    "        import_text = node.text.strip() if hasattr(node, 'text') else \"\"\n",
    "        return {'imports': [import_text.decode(\"utf-8\")]}\n",
    "\n",
    "    elif node.type == 'function_definition':\n",
    "        function_text = node.text.strip() if hasattr(node, 'text') else \"\"\n",
    "        return {'functions': [function_text.decode(\"utf-8\")]}\n",
    "\n",
    "    elif node.type == 'class_definition':\n",
    "        class_text = node.text.strip().decode(\"utf-8\") if hasattr(node, 'text') else \"\"\n",
    "        return {'classes': {class_text}}\n",
    "\n",
    "    # Check if it's a documentation string for the entire module\n",
    "    elif node.type == 'expression_statement' and node.child_count > 0 and node.children[0].type == 'string':\n",
    "        doc_string = node.children[0].text.strip() if hasattr(node.children[0], 'text') else \"\"\n",
    "        return {'documentation': [doc_string.decode(\"utf-8\")]}\n",
    "\n",
    "    # If it's not an import, function, or class, and not a documentation string, consider it as 'other'\n",
    "    else:\n",
    "        other_text = node.text.strip() if hasattr(node, 'text') else \"\"\n",
    "        return {'other': [other_text.decode(\"utf-8\")]}\n",
    "    \n",
    "    for child in node.children:\n",
    "        extract_functions_classes_imports(child)"
   ]
  },
  {
   "cell_type": "code",
   "execution_count": 12,
   "id": "2e17f579-efb2-483c-8b5f-a52e4af89801",
   "metadata": {
    "tags": []
   },
   "outputs": [],
   "source": [
    "def categorize_code(root_node):\n",
    "    result = {'imports': [], 'functions': [], 'classes': [], 'documentation': [], 'other': []}\n",
    "    for node in root_node.children:\n",
    "        category_result = extract_functions_classes_imports(node)\n",
    "        for category, items in category_result.items():\n",
    "            result[category].extend(items)\n",
    "\n",
    "    return result"
   ]
  },
  {
   "cell_type": "code",
   "execution_count": 13,
   "id": "b44a2b99-5c4f-4607-a1d3-e4a18fde10dd",
   "metadata": {},
   "outputs": [],
   "source": [
    "def extract_docstrings(code: str) -> List[str]:\n",
    "    tree = ast.parse(code)\n",
    "    return [node.value.s for node in ast.walk(tree) if isinstance(node, ast.Expr) and isinstance(node.value, ast.Str)]"
   ]
  },
  {
   "cell_type": "code",
   "execution_count": 14,
   "id": "3c1c425e-ebf4-418b-9f14-423472f06c10",
   "metadata": {},
   "outputs": [],
   "source": [
    "def remove_extra_chars(data):\n",
    "    if isinstance(data, dict):\n",
    "        for key, value in data.items():\n",
    "            data[key] = remove_extra_chars(value)\n",
    "    elif isinstance(data, list):\n",
    "        data = [remove_extra_chars(item) for item in data]\n",
    "    elif isinstance(data, str):\n",
    "        data = re.sub(r'\\\"{3},?', '', data)\n",
    "\n",
    "    return data"
   ]
  },
  {
   "cell_type": "code",
   "execution_count": 15,
   "id": "b837b2b1-bcdb-401b-b930-fc5bc5baebc2",
   "metadata": {},
   "outputs": [],
   "source": [
    "def process_code(data: Dict[str, Dict[str, List[str]]]) -> Dict[str, Dict[str, List[str]]]:\n",
    "    for category, category_data in data.items():\n",
    "        if \"code_chunks\" in category_data:\n",
    "            code_chunks = category_data[\"code_chunks\"]\n",
    "\n",
    "            for key in [\"functions\", \"classes\"]:\n",
    "                new_key_code = f\"{key}_code\"\n",
    "                new_key_docstrings = f\"{key}_docstrings\"\n",
    "\n",
    "                if key in code_chunks:\n",
    "                    # Ensure the keys are present, even if initially empty\n",
    "                    code_chunks[new_key_code] = code_chunks.get(new_key_code, [])\n",
    "                    code_chunks[new_key_docstrings] = code_chunks.get(new_key_docstrings, [])\n",
    "\n",
    "                    for i, code_block in enumerate(code_chunks[key]):\n",
    "                        docstrings = extract_docstrings(code_block)\n",
    "                        code_chunks[new_key_docstrings].extend(docstrings)\n",
    "\n",
    "                        # Remove docstrings from the original code block\n",
    "                        for docstring in docstrings:\n",
    "                            code_chunks[key][i] = code_chunks[key][i].replace(f'\"\"\"{docstring}\"\"\"', '\"\"\",', 1)\n",
    "\n",
    "                        # Append the modified code block to the new key\n",
    "                        code_chunks[new_key_code].append(code_chunks[key][i])\n",
    "\n",
    "    return data"
   ]
  },
  {
   "cell_type": "code",
   "execution_count": 16,
   "id": "bae432f8-07a0-46a0-b34e-db3637ab8d90",
   "metadata": {
    "tags": []
   },
   "outputs": [],
   "source": [
    "for k in data.keys():\n",
    "    code_chunk = data[k][\"code\"][0][files[k]]\n",
    "    tree = parser.parse(bytes(code_chunk, \"utf8\"))\n",
    "    root_node = tree.root_node\n",
    "    k_categorized_code = categorize_code(root_node)\n",
    "    data[k]['code_chunks'] = k_categorized_code"
   ]
  },
  {
   "cell_type": "code",
   "execution_count": 17,
   "id": "2546b5f3-981e-4983-821e-a975fd05381e",
   "metadata": {},
   "outputs": [],
   "source": [
    "data = process_code(data)"
   ]
  },
  {
   "cell_type": "code",
   "execution_count": 18,
   "id": "7d928769-4dbb-4647-937d-0c55b994712a",
   "metadata": {},
   "outputs": [],
   "source": [
    "data = remove_extra_chars(data)"
   ]
  },
  {
   "cell_type": "code",
   "execution_count": 19,
   "id": "04f972a4-1555-4284-81af-f166200862a4",
   "metadata": {
    "tags": []
   },
   "outputs": [
    {
     "data": {
      "text/plain": [
       "dict_keys(['errors', 'oidc', 'sign', 'transparency', 'verify_models', 'verify_policy', 'verify_verifier'])"
      ]
     },
     "execution_count": 19,
     "metadata": {},
     "output_type": "execute_result"
    }
   ],
   "source": [
    "data.keys()"
   ]
  },
  {
   "cell_type": "code",
   "execution_count": 20,
   "id": "7fe63613-c45c-4f87-8042-5b26389d6369",
   "metadata": {
    "tags": []
   },
   "outputs": [
    {
     "data": {
      "text/plain": [
       "dict_keys(['markdown', 'code', 'code_chunks'])"
      ]
     },
     "execution_count": 20,
     "metadata": {},
     "output_type": "execute_result"
    }
   ],
   "source": [
    "data[\"oidc\"].keys()"
   ]
  },
  {
   "cell_type": "code",
   "execution_count": 21,
   "id": "42efaff3-22e4-416a-8f2b-e39339890c7d",
   "metadata": {},
   "outputs": [
    {
     "data": {
      "text/plain": [
       "dict_keys(['imports', 'functions', 'classes', 'documentation', 'other', 'functions_code', 'functions_docstrings', 'classes_code', 'classes_docstrings'])"
      ]
     },
     "execution_count": 21,
     "metadata": {},
     "output_type": "execute_result"
    }
   ],
   "source": [
    "data[\"oidc\"][\"code_chunks\"].keys()"
   ]
  },
  {
   "cell_type": "code",
   "execution_count": 22,
   "id": "098de4c3-97c6-4dd5-82fa-5cc288166a15",
   "metadata": {},
   "outputs": [
    {
     "data": {
      "text/plain": [
       "dict_keys(['imports', 'functions', 'classes', 'documentation', 'other', 'functions_code', 'functions_docstrings', 'classes_code', 'classes_docstrings'])"
      ]
     },
     "execution_count": 22,
     "metadata": {},
     "output_type": "execute_result"
    }
   ],
   "source": [
    "data[\"errors\"][\"code_chunks\"].keys()"
   ]
  },
  {
   "cell_type": "code",
   "execution_count": 23,
   "id": "62848e74-1959-41af-8fb8-26da561c48d8",
   "metadata": {},
   "outputs": [
    {
     "data": {
      "text/plain": [
       "['def detect_credential() -> Optional[str]:\\n    \\n    try:\\n        return cast(Optional[str], id.detect_credential(_DEFAULT_AUDIENCE))\\n    except id.IdentityError as exc:\\n        IdentityError.raise_from_id(exc)']"
      ]
     },
     "execution_count": 23,
     "metadata": {},
     "output_type": "execute_result"
    }
   ],
   "source": [
    "data[\"oidc\"][\"code_chunks\"][\"functions_code\"]"
   ]
  },
  {
   "cell_type": "code",
   "execution_count": 24,
   "id": "abc1432a-373b-4dc6-a6ef-f081b6c24502",
   "metadata": {},
   "outputs": [
    {
     "data": {
      "text/plain": [
       "['Calls `id.detect_credential`, but wraps exceptions with our own exception type.']"
      ]
     },
     "execution_count": 24,
     "metadata": {},
     "output_type": "execute_result"
    }
   ],
   "source": [
    "data[\"oidc\"][\"code_chunks\"][\"functions_docstrings\"]"
   ]
  },
  {
   "cell_type": "code",
   "execution_count": 25,
   "id": "bce8e4a6-40db-4360-83ac-f35643e18ce4",
   "metadata": {},
   "outputs": [
    {
     "data": {
      "text/plain": [
       "'class _OpenIDConfiguration(BaseModel):\\n    \\n\\n    authorization_endpoint: StrictStr\\n    token_endpoint: StrictStr'"
      ]
     },
     "execution_count": 25,
     "metadata": {},
     "output_type": "execute_result"
    }
   ],
   "source": [
    "data[\"oidc\"][\"code_chunks\"][\"classes_code\"][0]"
   ]
  },
  {
   "cell_type": "code",
   "execution_count": 26,
   "id": "8dbdcaf7-b101-4782-9825-fe899e7e4a94",
   "metadata": {},
   "outputs": [
    {
     "data": {
      "text/plain": [
       "[\"\\n    Represents a (subset) of the fields provided by an OpenID Connect provider's\\n    `.well-known/openid-configuration` response, as defined by OpenID Connect Discovery.\\n\\n    See: <https://openid.net/specs/openid-connect-discovery-1_0.html>\\n    \",\n",
       " 'An error raised when an identity token is expired.',\n",
       " '\\n    An OIDC \"identity\", corresponding to an underlying OIDC token with\\n    a sensible subject, issuer, and audience for Sigstore purposes.\\n    ',\n",
       " '\\n        Create a new `IdentityToken` from the given OIDC token.\\n        ',\n",
       " \"\\n        Returns whether or not this `Identity` is currently within its self-stated validity period.\\n\\n        NOTE: As noted in `Identity.__init__`, this is not a verifying wrapper;\\n        the check here only asserts whether the *unverified* identity's claims\\n        are within their validity period.\\n        \",\n",
       " '\\n        Returns this `IdentityToken`\\'s underlying \"subject\".\\n\\n        Note that this is **not** always the `sub` claim in the corresponding\\n        identity token: depending onm the token\\'s issuer, it may be a *different*\\n        claim, such as `email`. This corresponds to the Sigstore ecosystem\\'s\\n        behavior, e.g. in each issued certificate\\'s SAN.\\n        ',\n",
       " \"\\n        Returns a URL identifying this `IdentityToken`'s issuer.\\n        \",\n",
       " \"\\n        Returns a URL identifying the **expected** subject for any Sigstore\\n        certificate issued against this identity token.\\n\\n        The behavior of this field is slightly subtle: for non-federated\\n        identity providers (like a token issued directly by Google's IdP) it\\n        should be exactly equivalent to `IdentityToken.issuer`. For federated\\n        issuers (like Sigstore's own federated IdP) it should be equivalent to\\n        the underlying federated issuer's URL, which is kept in an\\n        implementation-defined claim.\\n\\n        This attribute exists so that clients who wish to inspect the expected\\n        subject of their certificates can do so without relying on\\n        implementation-specific behavior.\\n        \",\n",
       " '\\n        Returns the underlying OIDC token for this identity.\\n\\n        That this token is secret in nature and **MUST NOT** be disclosed.\\n        ',\n",
       " '\\n    Raised on any communication or format error with an OIDC issuer.\\n    ',\n",
       " '\\n    Represents an OIDC issuer (IdP).\\n    ',\n",
       " \"\\n        Create a new `Issuer` from the given base URL.\\n\\n        This URL is used to locate an OpenID Connect configuration file,\\n        which is then used to bootstrap the issuer's state (such\\n        as authorization and token endpoints).\\n        \",\n",
       " \"\\n        Returns an `Issuer` configured against Sigstore's production-level services.\\n        \",\n",
       " \"\\n        Returns an `Issuer` configured against Sigstore's staging-level services.\\n        \",\n",
       " \"\\n        Retrieves and returns an `IdentityToken` from the current `Issuer`, via OAuth.\\n\\n        This function blocks on user interaction.\\n\\n        The `force_oob` flag controls the kind of flow performed. When `False` (the default),\\n        this function attempts to open the user's web browser before falling back to\\n        an out-of-band flow. When `True`, the out-of-band flow is always used.\\n        \",\n",
       " \"\\n    Wraps `id`'s IdentityError.\\n    \",\n",
       " 'Raises a wrapped IdentityError from the provided `id.IdentityError`.',\n",
       " 'Returns diagnostics for the error.']"
      ]
     },
     "execution_count": 26,
     "metadata": {},
     "output_type": "execute_result"
    }
   ],
   "source": [
    "data[\"oidc\"][\"code_chunks\"][\"classes_docstrings\"]"
   ]
  },
  {
   "cell_type": "code",
   "execution_count": 27,
   "id": "9830e2d2-3b97-4b14-a57e-3e18b400512f",
   "metadata": {
    "tags": []
   },
   "outputs": [],
   "source": [
    "with open('../../data/raw/chunked_data.json', 'w', encoding=\"utf-8\") as json_file:\n",
    "    json.dump(data, json_file, indent=4)"
   ]
  }
 ],
 "metadata": {
  "kernelspec": {
   "display_name": "Python 3 (ipykernel)",
   "language": "python",
   "name": "python3"
  },
  "language_info": {
   "codemirror_mode": {
    "name": "ipython",
    "version": 3
   },
   "file_extension": ".py",
   "mimetype": "text/x-python",
   "name": "python",
   "nbconvert_exporter": "python",
   "pygments_lexer": "ipython3",
   "version": "3.9.2"
  }
 },
 "nbformat": 4,
 "nbformat_minor": 5
}
